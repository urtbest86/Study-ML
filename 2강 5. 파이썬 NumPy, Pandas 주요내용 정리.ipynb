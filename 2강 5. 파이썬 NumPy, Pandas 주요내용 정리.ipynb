{
 "cells": [
  {
   "cell_type": "markdown",
   "id": "ea64399d",
   "metadata": {},
   "source": [
    "## 21.08.22(일)"
   ]
  },
  {
   "cell_type": "markdown",
   "id": "5fa5a4e7",
   "metadata": {},
   "source": [
    "# 파면 팔수록 쉽고 재미있는 머신러닝"
   ]
  },
  {
   "cell_type": "markdown",
   "id": "5b9ca212",
   "metadata": {},
   "source": [
    "# 2강 5. 파이썬 NumPy, Pandas 주요내용 정리"
   ]
  },
  {
   "cell_type": "markdown",
   "id": "8a06cad2",
   "metadata": {},
   "source": [
    "---"
   ]
  },
  {
   "cell_type": "markdown",
   "id": "6b82a92f",
   "metadata": {},
   "source": [
    "NumPy 패키지의 ndarray 객체는 배열 기반의 데이터에 효율적인 저장소 뿐만 아니라 효율적인 연산을 제공한다."
   ]
  },
  {
   "cell_type": "markdown",
   "id": "c3626751",
   "metadata": {},
   "source": [
    "NumPy 배열 객체는 단일 요소에 접근하는 인덱싱, 하위 배열에 접근하는 슬라이싱, 부울 배열을 이용한 마스킹 연산, 인덱스 배열을 이용한 팬시 인덱싱, 이 모든 기능을 결합해 사용하는 복합 인덱스 기능을 제공한다."
   ]
  },
  {
   "cell_type": "markdown",
   "id": "76f14220",
   "metadata": {},
   "source": [
    "NumPy 배열은 유니버설 함수와 브로드캐스팅 기능을 이용해 벡터화 연산을 지원한다."
   ]
  },
  {
   "cell_type": "markdown",
   "id": "c6351c0f",
   "metadata": {},
   "source": [
    "Pandas 패키지는 유연한 인덱스를 가진 1차원 배열 Series와 유연한 행 인덱스와 열 이름을 가진 2차원 배열 DataFrame 객체를 제공한다."
   ]
  },
  {
   "cell_type": "markdown",
   "id": "6035fbd2",
   "metadata": {},
   "source": [
    "DataFrame은 인덱싱 연산에 loc, iloc 인덱서를 제공하며, 널 값 연산 기능과 조인, 그룹화, 피봇 기능을 지원한다."
   ]
  }
 ],
 "metadata": {
  "kernelspec": {
   "display_name": "Python 3",
   "language": "python",
   "name": "python3"
  },
  "language_info": {
   "codemirror_mode": {
    "name": "ipython",
    "version": 3
   },
   "file_extension": ".py",
   "mimetype": "text/x-python",
   "name": "python",
   "nbconvert_exporter": "python",
   "pygments_lexer": "ipython3",
   "version": "3.8.8"
  }
 },
 "nbformat": 4,
 "nbformat_minor": 5
}
