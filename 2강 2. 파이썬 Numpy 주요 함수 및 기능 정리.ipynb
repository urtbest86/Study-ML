{
 "cells": [
  {
   "cell_type": "markdown",
   "id": "6afc51f6",
   "metadata": {},
   "source": [
    "## 2021.08.21(토)"
   ]
  },
  {
   "cell_type": "markdown",
   "id": "b567ad7d",
   "metadata": {},
   "source": [
    "# 파면 팔수록 쉽고 재미있는 머신러닝"
   ]
  },
  {
   "cell_type": "markdown",
   "id": "a9860a71",
   "metadata": {},
   "source": [
    "# 2강 2. 파이썬 Numpy 주요 함수 및 기능 정리"
   ]
  },
  {
   "cell_type": "markdown",
   "id": "2bc271dc",
   "metadata": {},
   "source": [
    "---"
   ]
  },
  {
   "cell_type": "code",
   "execution_count": 1,
   "id": "8276ac00",
   "metadata": {},
   "outputs": [],
   "source": [
    "#Numpy 라이브러리 룩에 import할 때 별칭 np 사용\n",
    "import numpy as np"
   ]
  },
  {
   "cell_type": "markdown",
   "id": "1b5eec03",
   "metadata": {},
   "source": [
    "# 배열 초기화\n",
    "### array는 동질의 데이터를 다룰 수 있는 구조"
   ]
  },
  {
   "cell_type": "code",
   "execution_count": 113,
   "id": "a8a02bc1",
   "metadata": {},
   "outputs": [
    {
     "data": {
      "text/plain": [
       "array([1, 2, 3, 4, 5])"
      ]
     },
     "execution_count": 113,
     "metadata": {},
     "output_type": "execute_result"
    }
   ],
   "source": [
    "np.array([1,2,3,4,5])"
   ]
  },
  {
   "cell_type": "code",
   "execution_count": 114,
   "id": "7bd2ac48",
   "metadata": {},
   "outputs": [
    {
     "data": {
      "text/plain": [
       "array([1., 2., 3., 4.])"
      ]
     },
     "execution_count": 114,
     "metadata": {},
     "output_type": "execute_result"
    }
   ],
   "source": [
    "#데이터 타입을 지정하여 구성\n",
    "np.array([1,2,3,4], dtype=float)"
   ]
  },
  {
   "cell_type": "code",
   "execution_count": 115,
   "id": "2257ff31",
   "metadata": {},
   "outputs": [
    {
     "data": {
      "text/plain": [
       "array([[1, 2, 3],\n",
       "       [4, 5, 6],\n",
       "       [7, 8, 9]])"
      ]
     },
     "execution_count": 115,
     "metadata": {},
     "output_type": "execute_result"
    }
   ],
   "source": [
    "#list comprebension (루프)\n",
    "#2차원 구조를 가진 array 생성\n",
    "np.array([range(i, i+3) for i in [1,4,7]])"
   ]
  },
  {
   "cell_type": "code",
   "execution_count": 116,
   "id": "b68160ad",
   "metadata": {},
   "outputs": [
    {
     "data": {
      "text/plain": [
       "array([0., 0., 0., 0., 0., 0., 0., 0., 0., 0.])"
      ]
     },
     "execution_count": 116,
     "metadata": {},
     "output_type": "execute_result"
    }
   ],
   "source": [
    "#0으로 10개 초기화\n",
    "np.zeros(10)"
   ]
  },
  {
   "cell_type": "code",
   "execution_count": 117,
   "id": "7488acd4",
   "metadata": {},
   "outputs": [
    {
     "data": {
      "text/plain": [
       "array([[1., 1., 1., 1., 1.],\n",
       "       [1., 1., 1., 1., 1.],\n",
       "       [1., 1., 1., 1., 1.]])"
      ]
     },
     "execution_count": 117,
     "metadata": {},
     "output_type": "execute_result"
    }
   ],
   "source": [
    "#5개로 이루어진 배열을 3개 만들어 1로 초기화 (3행 5열)\n",
    "np.ones((3,5))"
   ]
  },
  {
   "cell_type": "code",
   "execution_count": 118,
   "id": "70aa1115",
   "metadata": {},
   "outputs": [
    {
     "data": {
      "text/plain": [
       "array([[5, 5, 5],\n",
       "       [5, 5, 5]])"
      ]
     },
     "execution_count": 118,
     "metadata": {},
     "output_type": "execute_result"
    }
   ],
   "source": [
    "#3개로 이루어진 배열을 2개로 만들어 5로 초기화 (2행 3열)\n",
    "np.full((2,3),5)"
   ]
  },
  {
   "cell_type": "code",
   "execution_count": 119,
   "id": "3dd484c6",
   "metadata": {},
   "outputs": [
    {
     "data": {
      "text/plain": [
       "array([0, 2, 4, 6, 8])"
      ]
     },
     "execution_count": 119,
     "metadata": {},
     "output_type": "execute_result"
    }
   ],
   "source": [
    "#0에서 2씩 증가해 10미만까지 배열로 만들기\n",
    "np.arange(0,10,2)"
   ]
  },
  {
   "cell_type": "code",
   "execution_count": 120,
   "id": "0d18f415",
   "metadata": {},
   "outputs": [
    {
     "data": {
      "text/plain": [
       "array([  0,  25,  50,  75, 100])"
      ]
     },
     "execution_count": 120,
     "metadata": {},
     "output_type": "execute_result"
    }
   ],
   "source": [
    "#0이상 100이하에서 같은 간격으로 5개 추출해서 배열 만들기 (타입은 int)\n",
    "np.linspace(0,100,5, dtype=int)"
   ]
  },
  {
   "cell_type": "code",
   "execution_count": 121,
   "id": "a15251ec",
   "metadata": {},
   "outputs": [
    {
     "data": {
      "text/plain": [
       "array([[0.97861834, 0.79915856, 0.46147936],\n",
       "       [0.78052918, 0.11827443, 0.63992102],\n",
       "       [0.14335329, 0.94466892, 0.52184832]])"
      ]
     },
     "execution_count": 121,
     "metadata": {},
     "output_type": "execute_result"
    }
   ],
   "source": [
    "#3행 3열로 무작위 값이 입력된 배열 생성\n",
    "np.random.random((3,3))"
   ]
  },
  {
   "cell_type": "code",
   "execution_count": 122,
   "id": "10b1a2cf",
   "metadata": {},
   "outputs": [
    {
     "data": {
      "text/plain": [
       "array([[4, 7, 3],\n",
       "       [2, 7, 2],\n",
       "       [0, 0, 4]])"
      ]
     },
     "execution_count": 122,
     "metadata": {},
     "output_type": "execute_result"
    }
   ],
   "source": [
    "#0부터 10 미만인 수들 중의 무작위 값들로 3행 3열 배열 생성\n",
    "np.random.randint(0,10,(3,3))"
   ]
  },
  {
   "cell_type": "code",
   "execution_count": 123,
   "id": "251ce9f1",
   "metadata": {},
   "outputs": [
    {
     "data": {
      "text/plain": [
       "array([[ 1.46274045,  1.53502913,  0.56644004],\n",
       "       [ 0.14926509, -1.078278  ,  1.39547227],\n",
       "       [ 1.78748405, -0.56951726,  0.17538653]])"
      ]
     },
     "execution_count": 123,
     "metadata": {},
     "output_type": "execute_result"
    }
   ],
   "source": [
    "#정규분포 N(0,1)(평균이 0, 표준편차가 1) 사이로 얻은 무작위 값들로 3행 3열 배열 생성\n",
    "np.random.normal(0,1,(3,3))"
   ]
  },
  {
   "cell_type": "code",
   "execution_count": 124,
   "id": "6c656ef6",
   "metadata": {},
   "outputs": [
    {
     "name": "stdout",
     "output_type": "stream",
     "text": [
      "arr1 : \n",
      " [5 0 3 3 7 9]\n",
      "arr2 : \n",
      " [[3 5 2]\n",
      " [4 7 6]]\n"
     ]
    }
   ],
   "source": [
    "#random.seed는 계속 다시 실행해도 처음에 생성되었던 동일한 난수들로 지정이 됨.\n",
    "#0이상 10미만의 무작위 값들로 이루어진 수 6개로 이루어진 배열 arr1\n",
    "#0이상 10미만의 무작위 값들로 이루어진 수 2행 5열로 이루어진 배열 arr2\n",
    "np.random.seed(0)\n",
    "arr1=np.random.randint(10, size=6)\n",
    "arr2=np.random.randint(10, size=(2,3))\n",
    "print('arr1 : \\n',arr1)\n",
    "print('arr2 : \\n',arr2)"
   ]
  },
  {
   "cell_type": "markdown",
   "id": "a413c6bf",
   "metadata": {},
   "source": [
    "# 배열 인덱싱"
   ]
  },
  {
   "cell_type": "code",
   "execution_count": 125,
   "id": "43a44dd1",
   "metadata": {},
   "outputs": [
    {
     "data": {
      "text/plain": [
       "array([5, 0, 3, 3, 7, 9])"
      ]
     },
     "execution_count": 125,
     "metadata": {},
     "output_type": "execute_result"
    }
   ],
   "source": [
    "arr1"
   ]
  },
  {
   "cell_type": "code",
   "execution_count": 126,
   "id": "d3fdb373",
   "metadata": {},
   "outputs": [
    {
     "data": {
      "text/plain": [
       "5"
      ]
     },
     "execution_count": 126,
     "metadata": {},
     "output_type": "execute_result"
    }
   ],
   "source": [
    "#arr1의 1번째에 위치하는 값\n",
    "arr1[0]"
   ]
  },
  {
   "cell_type": "code",
   "execution_count": 127,
   "id": "b3c8d2ea",
   "metadata": {},
   "outputs": [
    {
     "data": {
      "text/plain": [
       "9"
      ]
     },
     "execution_count": 127,
     "metadata": {},
     "output_type": "execute_result"
    }
   ],
   "source": [
    "#arr1의 6번째에 위치하는 값\n",
    "arr1[5]"
   ]
  },
  {
   "cell_type": "code",
   "execution_count": 128,
   "id": "e0bf900c",
   "metadata": {},
   "outputs": [
    {
     "data": {
      "text/plain": [
       "5"
      ]
     },
     "execution_count": 128,
     "metadata": {},
     "output_type": "execute_result"
    }
   ],
   "source": [
    "#arr1의 뒤에서 6번째에 위치하는 값\n",
    "arr1[-6]"
   ]
  },
  {
   "cell_type": "code",
   "execution_count": 129,
   "id": "9a9843f2",
   "metadata": {},
   "outputs": [
    {
     "data": {
      "text/plain": [
       "9"
      ]
     },
     "execution_count": 129,
     "metadata": {},
     "output_type": "execute_result"
    }
   ],
   "source": [
    "#arr1의 뒤에서 1번째 위치하는 값(제일 마지막 값)\n",
    "arr1[-1]"
   ]
  },
  {
   "cell_type": "markdown",
   "id": "8d209780",
   "metadata": {},
   "source": [
    "###### "
   ]
  },
  {
   "cell_type": "code",
   "execution_count": 53,
   "id": "1f7b5e94",
   "metadata": {},
   "outputs": [
    {
     "data": {
      "text/plain": [
       "array([[3, 5, 2],\n",
       "       [4, 7, 6]])"
      ]
     },
     "execution_count": 53,
     "metadata": {},
     "output_type": "execute_result"
    }
   ],
   "source": [
    "arr2"
   ]
  },
  {
   "cell_type": "code",
   "execution_count": 130,
   "id": "87205903",
   "metadata": {},
   "outputs": [
    {
     "data": {
      "text/plain": [
       "array([3, 5, 2])"
      ]
     },
     "execution_count": 130,
     "metadata": {},
     "output_type": "execute_result"
    }
   ],
   "source": [
    "#arr2의 첫번째 값\n",
    "arr2[0] "
   ]
  },
  {
   "cell_type": "code",
   "execution_count": 131,
   "id": "27878ba8",
   "metadata": {},
   "outputs": [
    {
     "data": {
      "text/plain": [
       "4"
      ]
     },
     "execution_count": 131,
     "metadata": {},
     "output_type": "execute_result"
    }
   ],
   "source": [
    "#arr2의 2번째 행의 1번 열의 값\n",
    "arr2[1,0]"
   ]
  },
  {
   "cell_type": "code",
   "execution_count": 132,
   "id": "29b5c88b",
   "metadata": {},
   "outputs": [
    {
     "data": {
      "text/plain": [
       "4"
      ]
     },
     "execution_count": 132,
     "metadata": {},
     "output_type": "execute_result"
    }
   ],
   "source": [
    "#arr2의 마지막 행의 뒤에서 3번째 열의 값\n",
    "arr2[-1,-3]"
   ]
  },
  {
   "cell_type": "code",
   "execution_count": 133,
   "id": "aa646b6c",
   "metadata": {},
   "outputs": [
    {
     "data": {
      "text/plain": [
       "array([[9, 5, 2],\n",
       "       [4, 7, 6]])"
      ]
     },
     "execution_count": 133,
     "metadata": {},
     "output_type": "execute_result"
    }
   ],
   "source": [
    "#arr2의 1번째 행의 1번 열의 값을 9로 변경\n",
    "arr2[0,0]=9\n",
    "arr2"
   ]
  },
  {
   "cell_type": "markdown",
   "id": "b366c0a9",
   "metadata": {},
   "source": [
    "# 배열 슬라이싱"
   ]
  },
  {
   "cell_type": "code",
   "execution_count": 64,
   "id": "3c6de26e",
   "metadata": {},
   "outputs": [
    {
     "data": {
      "text/plain": [
       "array([0, 1, 2, 3, 4, 5, 6, 7, 8, 9])"
      ]
     },
     "execution_count": 64,
     "metadata": {},
     "output_type": "execute_result"
    }
   ],
   "source": [
    "arr1 = np.arange(10)\n",
    "arr1"
   ]
  },
  {
   "cell_type": "code",
   "execution_count": 134,
   "id": "aed5b370",
   "metadata": {},
   "outputs": [
    {
     "data": {
      "text/plain": [
       "array([5, 0, 3, 3, 7])"
      ]
     },
     "execution_count": 134,
     "metadata": {},
     "output_type": "execute_result"
    }
   ],
   "source": [
    "#1번째에서 5-1번째까지만\n",
    "arr1[0:5:1]\n",
    "arr1[:5:1]\n",
    "arr1[:5:]\n",
    "arr1[:5]"
   ]
  },
  {
   "cell_type": "code",
   "execution_count": 68,
   "id": "22d9b4ed",
   "metadata": {},
   "outputs": [
    {
     "data": {
      "text/plain": [
       "(array([0, 1, 2, 3, 4, 5, 6, 7, 8, 9]), array([0, 1, 2, 3, 4, 5, 6, 7, 8, 9]))"
      ]
     },
     "execution_count": 68,
     "metadata": {},
     "output_type": "execute_result"
    }
   ],
   "source": [
    "#arr1 배열 전체\n",
    "arr1[:], arr1[::]"
   ]
  },
  {
   "cell_type": "code",
   "execution_count": 135,
   "id": "ba5af5fa",
   "metadata": {},
   "outputs": [
    {
     "data": {
      "text/plain": [
       "(array([3, 7]), array([3, 7]))"
      ]
     },
     "execution_count": 135,
     "metadata": {},
     "output_type": "execute_result"
    }
   ],
   "source": [
    "#3번째부터 9-1번째까지 2개의 간격으로\n",
    "arr1[2:9:2], arr1[2::2]"
   ]
  },
  {
   "cell_type": "code",
   "execution_count": 138,
   "id": "2387fb4e",
   "metadata": {},
   "outputs": [
    {
     "data": {
      "text/plain": [
       "array([9, 7, 3, 3, 0, 5])"
      ]
     },
     "execution_count": 138,
     "metadata": {},
     "output_type": "execute_result"
    }
   ],
   "source": [
    "#뒤에서부터 거꾸로\n",
    "arr1[::-1]\n",
    "arr1[-1:-11:-1]"
   ]
  },
  {
   "cell_type": "markdown",
   "id": "87d18488",
   "metadata": {},
   "source": [
    "# 다차원 배열로 만들기"
   ]
  },
  {
   "cell_type": "markdown",
   "id": "af787dec",
   "metadata": {},
   "source": [
    "### reshape(행의 갯수, 열의 갯수)"
   ]
  },
  {
   "cell_type": "markdown",
   "id": "4a0218af",
   "metadata": {},
   "source": [
    "-1일 경우, 지정 안함을 의미"
   ]
  },
  {
   "cell_type": "code",
   "execution_count": 139,
   "id": "8c300a90",
   "metadata": {},
   "outputs": [
    {
     "data": {
      "text/plain": [
       "array([[ 0,  1,  2,  3],\n",
       "       [ 4,  5,  6,  7],\n",
       "       [ 8,  9, 10, 11]])"
      ]
     },
     "execution_count": 139,
     "metadata": {},
     "output_type": "execute_result"
    }
   ],
   "source": [
    "#12개의 원소를 가진 배열을 4열로 만들기\n",
    "arr2 = np.arange(12).reshape(-1, 4)\n",
    "arr2"
   ]
  },
  {
   "cell_type": "code",
   "execution_count": 140,
   "id": "d26f9462",
   "metadata": {},
   "outputs": [
    {
     "data": {
      "text/plain": [
       "array([[0, 1],\n",
       "       [4, 5],\n",
       "       [8, 9]])"
      ]
     },
     "execution_count": 140,
     "metadata": {},
     "output_type": "execute_result"
    }
   ],
   "source": [
    "#3행 2열까지만\n",
    "arr2[:3, :2]"
   ]
  },
  {
   "cell_type": "code",
   "execution_count": 141,
   "id": "9fc6f3ea",
   "metadata": {},
   "outputs": [
    {
     "data": {
      "text/plain": [
       "array([[ 0,  1,  2,  3],\n",
       "       [ 4,  5,  6,  7],\n",
       "       [ 8,  9, 10, 11]])"
      ]
     },
     "execution_count": 141,
     "metadata": {},
     "output_type": "execute_result"
    }
   ],
   "source": [
    "#전체\n",
    "arr2[:, :]"
   ]
  },
  {
   "cell_type": "code",
   "execution_count": 83,
   "id": "8196bb9e",
   "metadata": {},
   "outputs": [
    {
     "data": {
      "text/plain": [
       "array([[2, 1, 0],\n",
       "       [6, 5, 4]])"
      ]
     },
     "execution_count": 83,
     "metadata": {},
     "output_type": "execute_result"
    }
   ],
   "source": [
    "#2행, 2열부터 출력하는데 열을 뒤에서부터\n",
    "arr2[:2, 2::-1]"
   ]
  },
  {
   "cell_type": "code",
   "execution_count": 142,
   "id": "aa799646",
   "metadata": {},
   "outputs": [
    {
     "data": {
      "text/plain": [
       "(array([ 8,  9, 10, 11]), array([ 8,  9, 10, 11]))"
      ]
     },
     "execution_count": 142,
     "metadata": {},
     "output_type": "execute_result"
    }
   ],
   "source": [
    "#마지막 행만\n",
    "arr2[-1, :], arr2[-1]"
   ]
  },
  {
   "cell_type": "markdown",
   "id": "74d64401",
   "metadata": {},
   "source": [
    "# 리스트를 배열로 만들기"
   ]
  },
  {
   "cell_type": "code",
   "execution_count": null,
   "id": "21dedc0c",
   "metadata": {},
   "outputs": [],
   "source": [
    "axis는 0부터 시작하며, 큰 범위의 축부터가 기준"
   ]
  },
  {
   "cell_type": "code",
   "execution_count": 143,
   "id": "3324a3f8",
   "metadata": {},
   "outputs": [],
   "source": [
    "list1 = [1, 2, 3]"
   ]
  },
  {
   "cell_type": "code",
   "execution_count": 144,
   "id": "3869821d",
   "metadata": {},
   "outputs": [],
   "source": [
    "list2 = [4, 5, 6]"
   ]
  },
  {
   "cell_type": "code",
   "execution_count": 145,
   "id": "7c843e2b",
   "metadata": {},
   "outputs": [
    {
     "data": {
      "text/plain": [
       "array([1, 2, 3, 4, 5, 6])"
      ]
     },
     "execution_count": 145,
     "metadata": {},
     "output_type": "execute_result"
    }
   ],
   "source": [
    "#list1과 list2 합치기\n",
    "np.concatenate([list1, list2])"
   ]
  },
  {
   "cell_type": "code",
   "execution_count": 91,
   "id": "a7f57a1f",
   "metadata": {},
   "outputs": [
    {
     "data": {
      "text/plain": [
       "array([1, 2, 3, 4, 5, 6])"
      ]
     },
     "execution_count": 91,
     "metadata": {},
     "output_type": "execute_result"
    }
   ],
   "source": [
    "#첫번째 축\n",
    "arr1 = np.concatenate([list1, list2], axis=0)\n",
    "arr1"
   ]
  },
  {
   "cell_type": "code",
   "execution_count": 146,
   "id": "08ea16f6",
   "metadata": {},
   "outputs": [
    {
     "ename": "AxisError",
     "evalue": "axis 1 is out of bounds for array of dimension 1",
     "output_type": "error",
     "traceback": [
      "\u001b[0;31m---------------------------------------------------------------------------\u001b[0m",
      "\u001b[0;31mAxisError\u001b[0m                                 Traceback (most recent call last)",
      "\u001b[0;32m<ipython-input-146-8a84b459be3d>\u001b[0m in \u001b[0;36m<module>\u001b[0;34m\u001b[0m\n\u001b[1;32m      1\u001b[0m \u001b[0;31m#축이 하나밖에 없기 때문에 axis=1을 하면 오류가 남.\u001b[0m\u001b[0;34m\u001b[0m\u001b[0;34m\u001b[0m\u001b[0;34m\u001b[0m\u001b[0m\n\u001b[0;32m----> 2\u001b[0;31m \u001b[0marr1\u001b[0m \u001b[0;34m=\u001b[0m \u001b[0mnp\u001b[0m\u001b[0;34m.\u001b[0m\u001b[0mconcatenate\u001b[0m\u001b[0;34m(\u001b[0m\u001b[0;34m[\u001b[0m\u001b[0mlist1\u001b[0m\u001b[0;34m,\u001b[0m \u001b[0mlist2\u001b[0m\u001b[0;34m]\u001b[0m\u001b[0;34m,\u001b[0m \u001b[0maxis\u001b[0m\u001b[0;34m=\u001b[0m\u001b[0;36m1\u001b[0m\u001b[0;34m)\u001b[0m\u001b[0;34m\u001b[0m\u001b[0;34m\u001b[0m\u001b[0m\n\u001b[0m\u001b[1;32m      3\u001b[0m \u001b[0marr1\u001b[0m\u001b[0;34m\u001b[0m\u001b[0;34m\u001b[0m\u001b[0m\n",
      "\u001b[0;32m<__array_function__ internals>\u001b[0m in \u001b[0;36mconcatenate\u001b[0;34m(*args, **kwargs)\u001b[0m\n",
      "\u001b[0;31mAxisError\u001b[0m: axis 1 is out of bounds for array of dimension 1"
     ]
    }
   ],
   "source": [
    "#축이 하나밖에 없기 때문에 axis=1을 하면 오류가 남.\n",
    "arr1 = np.concatenate([list1, list2], axis=1)\n",
    "arr1"
   ]
  },
  {
   "cell_type": "code",
   "execution_count": 149,
   "id": "48e6feaa",
   "metadata": {},
   "outputs": [
    {
     "data": {
      "text/plain": [
       "array([[5, 0, 3],\n",
       "       [3, 7, 9]])"
      ]
     },
     "execution_count": 149,
     "metadata": {},
     "output_type": "execute_result"
    }
   ],
   "source": [
    "#arr1을 3열로 이루어진 배열로 재생성\n",
    "arr2 = arr1.reshape(-1, 3)\n",
    "arr2"
   ]
  },
  {
   "cell_type": "code",
   "execution_count": 151,
   "id": "f3f04ef7",
   "metadata": {},
   "outputs": [
    {
     "data": {
      "text/plain": [
       "array([[5, 0, 3],\n",
       "       [3, 7, 9],\n",
       "       [5, 0, 3],\n",
       "       [3, 7, 9]])"
      ]
     },
     "execution_count": 151,
     "metadata": {},
     "output_type": "execute_result"
    }
   ],
   "source": [
    "#(2,3) 제일 큰 범위가 행이기 때문에 행부터 0\n",
    "#행을 기준으로 합치기\n",
    "np.concatenate([arr2, arr2], axis=0)"
   ]
  },
  {
   "cell_type": "code",
   "execution_count": 152,
   "id": "a008aa61",
   "metadata": {},
   "outputs": [
    {
     "data": {
      "text/plain": [
       "array([[5, 0, 3, 5, 0, 3],\n",
       "       [3, 7, 9, 3, 7, 9]])"
      ]
     },
     "execution_count": 152,
     "metadata": {},
     "output_type": "execute_result"
    }
   ],
   "source": [
    "#(2,3) 1은 그 다음으로 3열, 즉 열이 기준이 됨.\n",
    "# 열을 기준으로 합치기\n",
    "np.concatenate([arr2, arr2], axis=1)"
   ]
  },
  {
   "cell_type": "code",
   "execution_count": 153,
   "id": "ffed8154",
   "metadata": {},
   "outputs": [
    {
     "data": {
      "text/plain": [
       "array([[5, 0, 3],\n",
       "       [3, 7, 9],\n",
       "       [5, 0, 3],\n",
       "       [3, 7, 9]])"
      ]
     },
     "execution_count": 153,
     "metadata": {},
     "output_type": "execute_result"
    }
   ],
   "source": [
    "#배열을 세로로 결합\n",
    "np.vstack([arr2, arr2])"
   ]
  },
  {
   "cell_type": "code",
   "execution_count": 154,
   "id": "9cb8b0cf",
   "metadata": {},
   "outputs": [
    {
     "data": {
      "text/plain": [
       "array([[5, 0, 3, 5, 0, 3],\n",
       "       [3, 7, 9, 3, 7, 9]])"
      ]
     },
     "execution_count": 154,
     "metadata": {},
     "output_type": "execute_result"
    }
   ],
   "source": [
    "#배열을 가로로 결합\n",
    "np.hstack([arr2, arr2])"
   ]
  },
  {
   "cell_type": "markdown",
   "id": "cfd02e24",
   "metadata": {},
   "source": [
    "# 파이썬의 loop속도는 느림."
   ]
  },
  {
   "cell_type": "markdown",
   "id": "cc1e3e0c",
   "metadata": {},
   "source": [
    "# 이에 numpy내장함수를 사용하는 것이 더 좋음."
   ]
  },
  {
   "cell_type": "markdown",
   "id": "31cc8aff",
   "metadata": {},
   "source": [
    "# 파이썬의 내장함수 < Numpy의 내장함수"
   ]
  },
  {
   "cell_type": "code",
   "execution_count": 157,
   "id": "8209f53e",
   "metadata": {},
   "outputs": [
    {
     "data": {
      "text/plain": [
       "array([[6, 1, 4, 4],\n",
       "       [8, 4, 6, 3],\n",
       "       [5, 8, 7, 9]])"
      ]
     },
     "execution_count": 157,
     "metadata": {},
     "output_type": "execute_result"
    }
   ],
   "source": [
    "#1부터 10미만 중에서 난수를 생성해 3행 4열로 배열 생성\n",
    "np.random.seed(0)\n",
    "arr2 = np.random.randint(1, 10, (3, 4))\n",
    "arr2"
   ]
  },
  {
   "cell_type": "code",
   "execution_count": 162,
   "id": "f232220c",
   "metadata": {},
   "outputs": [
    {
     "data": {
      "text/plain": [
       "(65, 65)"
      ]
     },
     "execution_count": 162,
     "metadata": {},
     "output_type": "execute_result"
    }
   ],
   "source": [
    "np.sum(arr2), arr2.sum()"
   ]
  },
  {
   "cell_type": "code",
   "execution_count": 160,
   "id": "768239e7",
   "metadata": {},
   "outputs": [
    {
     "data": {
      "text/plain": [
       "(array([19, 13, 17, 16]), array([19, 13, 17, 16]))"
      ]
     },
     "execution_count": 160,
     "metadata": {},
     "output_type": "execute_result"
    }
   ],
   "source": [
    "np.sum(arr2, axis=0), arr2.sum(axis=0)"
   ]
  },
  {
   "cell_type": "code",
   "execution_count": 163,
   "id": "e02fb27a",
   "metadata": {},
   "outputs": [
    {
     "data": {
      "text/plain": [
       "(array([15, 21, 29]), array([15, 21, 29]))"
      ]
     },
     "execution_count": 163,
     "metadata": {},
     "output_type": "execute_result"
    }
   ],
   "source": [
    "np.sum(arr2, axis=1), arr2.sum(axis=1)"
   ]
  },
  {
   "cell_type": "code",
   "execution_count": 164,
   "id": "30a4dc89",
   "metadata": {},
   "outputs": [
    {
     "data": {
      "text/plain": [
       "(array([5, 1, 4, 3]), array([8, 8, 7, 9]))"
      ]
     },
     "execution_count": 164,
     "metadata": {},
     "output_type": "execute_result"
    }
   ],
   "source": [
    "np.min(arr2, axis=0), np.max(arr2, axis=0)"
   ]
  },
  {
   "cell_type": "code",
   "execution_count": 165,
   "id": "f0f3bcb6",
   "metadata": {},
   "outputs": [
    {
     "data": {
      "text/plain": [
       "(array([5, 1, 4, 3]), array([8, 8, 7, 9]))"
      ]
     },
     "execution_count": 165,
     "metadata": {},
     "output_type": "execute_result"
    }
   ],
   "source": [
    "arr2.min(axis=0), arr2.max(axis=0)"
   ]
  },
  {
   "cell_type": "code",
   "execution_count": 166,
   "id": "74fbf998",
   "metadata": {},
   "outputs": [
    {
     "data": {
      "text/plain": [
       "(array([1, 3, 5]), array([6, 8, 9]))"
      ]
     },
     "execution_count": 166,
     "metadata": {},
     "output_type": "execute_result"
    }
   ],
   "source": [
    "np.min(arr2, axis=1), np.max(arr2, axis=1)"
   ]
  },
  {
   "cell_type": "code",
   "execution_count": 167,
   "id": "7e1951e4",
   "metadata": {},
   "outputs": [
    {
     "data": {
      "text/plain": [
       "(array([1, 3, 5]), array([6, 8, 9]))"
      ]
     },
     "execution_count": 167,
     "metadata": {},
     "output_type": "execute_result"
    }
   ],
   "source": [
    "arr2.min(axis=1), arr2.max(axis=1)"
   ]
  },
  {
   "cell_type": "markdown",
   "id": "d0b65a2e",
   "metadata": {},
   "source": [
    "# 행열 구조 맞추기"
   ]
  },
  {
   "cell_type": "code",
   "execution_count": 180,
   "id": "bf7750fd",
   "metadata": {},
   "outputs": [
    {
     "data": {
      "text/plain": [
       "array([[0.5488135 , 0.71518937, 0.60276338],\n",
       "       [0.54488318, 0.4236548 , 0.64589411],\n",
       "       [0.43758721, 0.891773  , 0.96366276],\n",
       "       [0.38344152, 0.79172504, 0.52889492],\n",
       "       [0.56804456, 0.92559664, 0.07103606],\n",
       "       [0.0871293 , 0.0202184 , 0.83261985],\n",
       "       [0.77815675, 0.87001215, 0.97861834],\n",
       "       [0.79915856, 0.46147936, 0.78052918],\n",
       "       [0.11827443, 0.63992102, 0.14335329],\n",
       "       [0.94466892, 0.52184832, 0.41466194]])"
      ]
     },
     "execution_count": 180,
     "metadata": {},
     "output_type": "execute_result"
    }
   ],
   "source": [
    "np.random.seed(0)\n",
    "X = np.random.random((10, 3))\n",
    "X"
   ]
  },
  {
   "cell_type": "code",
   "execution_count": 181,
   "id": "0e075895",
   "metadata": {},
   "outputs": [
    {
     "data": {
      "text/plain": [
       "array([0.52101579, 0.62614181, 0.59620338])"
      ]
     },
     "execution_count": 181,
     "metadata": {},
     "output_type": "execute_result"
    }
   ],
   "source": [
    "#X의 행 기준 평균\n",
    "Xmean = X.mean(axis=0)\n",
    "Xmean"
   ]
  },
  {
   "cell_type": "code",
   "execution_count": 184,
   "id": "12dd4c2d",
   "metadata": {},
   "outputs": [
    {
     "data": {
      "text/plain": [
       "array([[ 0.02779771,  0.08904756,  0.00655999],\n",
       "       [ 0.02386739, -0.20248701,  0.04969073],\n",
       "       [-0.08342858,  0.26563119,  0.36745938],\n",
       "       [-0.13757427,  0.16558323, -0.06730846],\n",
       "       [ 0.04702877,  0.29945483, -0.52516732],\n",
       "       [-0.43388649, -0.60592341,  0.23641646],\n",
       "       [ 0.25714096,  0.24387034,  0.38241496],\n",
       "       [ 0.27814277, -0.16466245,  0.18432579],\n",
       "       [-0.40274137,  0.01377921, -0.45285009],\n",
       "       [ 0.42365312, -0.10429349, -0.18154144]])"
      ]
     },
     "execution_count": 184,
     "metadata": {},
     "output_type": "execute_result"
    }
   ],
   "source": [
    "#각 행마다 Xmean값들을 빼기\n",
    "Xcentered = X - Xmean\n",
    "Xcentered"
   ]
  },
  {
   "cell_type": "markdown",
   "id": "3203385f",
   "metadata": {},
   "source": [
    "# bool 연산"
   ]
  },
  {
   "cell_type": "code",
   "execution_count": 192,
   "id": "350eb68a",
   "metadata": {},
   "outputs": [
    {
     "data": {
      "text/plain": [
       "array([[6, 1, 4, 4],\n",
       "       [8, 4, 6, 3],\n",
       "       [5, 8, 7, 9]])"
      ]
     },
     "execution_count": 192,
     "metadata": {},
     "output_type": "execute_result"
    }
   ],
   "source": [
    "#1부터 10미만 중 난수들로 3X4배열 생성 \n",
    "np.random.seed(0)\n",
    "X = np.random.randint(1, 10, size=(3, 4))\n",
    "X"
   ]
  },
  {
   "cell_type": "code",
   "execution_count": 193,
   "id": "de0f2f8d",
   "metadata": {},
   "outputs": [
    {
     "data": {
      "text/plain": [
       "array([[ True, False, False, False],\n",
       "       [False, False,  True, False],\n",
       "       [False, False,  True, False]])"
      ]
     },
     "execution_count": 193,
     "metadata": {},
     "output_type": "execute_result"
    }
   ],
   "source": [
    "#X의 값들 중, 5 초과이며 8 미만을 조건으로 bool배열 생성\n",
    "(X > 5) & (X < 8)"
   ]
  },
  {
   "cell_type": "code",
   "execution_count": 197,
   "id": "972526a7",
   "metadata": {},
   "outputs": [
    {
     "data": {
      "text/plain": [
       "3"
      ]
     },
     "execution_count": 197,
     "metadata": {},
     "output_type": "execute_result"
    }
   ],
   "source": [
    "#X의 값들 중, 5 초과이며 8미만인 수들의 bool값 합\n",
    "#True의 값이 1이니, True가 3개란 뜻\n",
    "np.sum((X > 5) & (X < 8))"
   ]
  },
  {
   "cell_type": "code",
   "execution_count": 198,
   "id": "e8b8e880",
   "metadata": {},
   "outputs": [
    {
     "data": {
      "text/plain": [
       "12"
      ]
     },
     "execution_count": 198,
     "metadata": {},
     "output_type": "execute_result"
    }
   ],
   "source": [
    "#X의 값들 중, 5 초과이거나 8미만인 수들의 bool값 합\n",
    "#True의 값이 1이니, True가 8개란 뜻\n",
    "np.sum((X > 5) | (X < 8))"
   ]
  },
  {
   "cell_type": "code",
   "execution_count": 189,
   "id": "7210940d",
   "metadata": {},
   "outputs": [
    {
     "data": {
      "text/plain": [
       "array([1, 0, 2, 0])"
      ]
     },
     "execution_count": 189,
     "metadata": {},
     "output_type": "execute_result"
    }
   ],
   "source": [
    "#X의 값들 중, 5 초과이며 8미만인 수들의 행을 기준으로 한 bool값 합\n",
    "np.sum((X > 5) & (X < 8), axis=0)"
   ]
  },
  {
   "cell_type": "code",
   "execution_count": 199,
   "id": "8319d6e1",
   "metadata": {},
   "outputs": [
    {
     "data": {
      "text/plain": [
       "array([1, 1, 1])"
      ]
     },
     "execution_count": 199,
     "metadata": {},
     "output_type": "execute_result"
    }
   ],
   "source": [
    "#X의 값들 중, 5 초과이며 8미만인 수들의 열을 기준으로 한 bool값 합\n",
    "np.sum((X > 5) & (X < 8), axis=1)"
   ]
  },
  {
   "cell_type": "code",
   "execution_count": 200,
   "id": "6bd93548",
   "metadata": {},
   "outputs": [
    {
     "data": {
      "text/plain": [
       "array([6, 6, 7])"
      ]
     },
     "execution_count": 200,
     "metadata": {},
     "output_type": "execute_result"
    }
   ],
   "source": [
    "##X의 값들 중, 5 초과이며 8미만인 수들\n",
    "X[(X > 5) & (X < 8)]"
   ]
  },
  {
   "cell_type": "markdown",
   "id": "802c488f",
   "metadata": {},
   "source": [
    "# 행과 열을 이용한 인덱싱"
   ]
  },
  {
   "cell_type": "code",
   "execution_count": 228,
   "id": "3669c6bb",
   "metadata": {},
   "outputs": [
    {
     "data": {
      "text/plain": [
       "array([[ 0,  1,  2,  3],\n",
       "       [ 4,  5,  6,  7],\n",
       "       [ 8,  9, 10, 11]])"
      ]
     },
     "execution_count": 228,
     "metadata": {},
     "output_type": "execute_result"
    }
   ],
   "source": [
    "X = np.arange(12).reshape((3, 4))\n",
    "X"
   ]
  },
  {
   "cell_type": "code",
   "execution_count": 238,
   "id": "732caff0",
   "metadata": {},
   "outputs": [],
   "source": [
    "a = np.array([0, 1])\n",
    "b = np.array([2, 3])"
   ]
  },
  {
   "cell_type": "code",
   "execution_count": 239,
   "id": "ef8616fa",
   "metadata": {},
   "outputs": [
    {
     "data": {
      "text/plain": [
       "array([[0, 1, 2, 3],\n",
       "       [4, 5, 6, 7]])"
      ]
     },
     "execution_count": 239,
     "metadata": {},
     "output_type": "execute_result"
    }
   ],
   "source": [
    "#0행, 1행 출력\n",
    "X[a]"
   ]
  },
  {
   "cell_type": "code",
   "execution_count": 242,
   "id": "910ef232",
   "metadata": {},
   "outputs": [
    {
     "data": {
      "text/plain": [
       "array([[ 2,  3],\n",
       "       [ 6,  7],\n",
       "       [10, 11]])"
      ]
     },
     "execution_count": 242,
     "metadata": {},
     "output_type": "execute_result"
    }
   ],
   "source": [
    "#2열, 3열 출력\n",
    "X[:,b]"
   ]
  },
  {
   "cell_type": "code",
   "execution_count": 246,
   "id": "15c16f40",
   "metadata": {},
   "outputs": [
    {
     "data": {
      "text/plain": [
       "array([2, 7])"
      ]
     },
     "execution_count": 246,
     "metadata": {},
     "output_type": "execute_result"
    }
   ],
   "source": [
    "#(a)0행 (b)1열, (a)1행 (b)2열\n",
    "X[a, b]"
   ]
  },
  {
   "cell_type": "code",
   "execution_count": 248,
   "id": "390a7527",
   "metadata": {},
   "outputs": [],
   "source": [
    "###이거 잘 모르겠음. 이해 안감."
   ]
  },
  {
   "cell_type": "code",
   "execution_count": 247,
   "id": "f18999d0",
   "metadata": {
    "scrolled": false
   },
   "outputs": [
    {
     "data": {
      "text/plain": [
       "array([[2, 3],\n",
       "       [6, 7]])"
      ]
     },
     "execution_count": 247,
     "metadata": {},
     "output_type": "execute_result"
    }
   ],
   "source": [
    "X[a.reshape(-1, 1), b]"
   ]
  },
  {
   "cell_type": "code",
   "execution_count": null,
   "id": "395e7d90",
   "metadata": {},
   "outputs": [],
   "source": []
  },
  {
   "cell_type": "code",
   "execution_count": 250,
   "id": "68186fb3",
   "metadata": {},
   "outputs": [
    {
     "data": {
      "text/plain": [
       "array([[0., 0., 0., 0.],\n",
       "       [0., 0., 0., 0.],\n",
       "       [0., 0., 0., 0.]])"
      ]
     },
     "execution_count": 250,
     "metadata": {},
     "output_type": "execute_result"
    }
   ],
   "source": [
    "#3X4배열 0으로 초기화\n",
    "X = np.zeros(12).reshape((3, 4))\n",
    "X"
   ]
  },
  {
   "cell_type": "code",
   "execution_count": 251,
   "id": "6d0c066b",
   "metadata": {},
   "outputs": [
    {
     "data": {
      "text/plain": [
       "array([[0., 0., 0., 0.],\n",
       "       [1., 0., 0., 0.],\n",
       "       [0., 0., 0., 0.]])"
      ]
     },
     "execution_count": 251,
     "metadata": {},
     "output_type": "execute_result"
    }
   ],
   "source": [
    "#X의 1행 0열의 값을 1로 변경\n",
    "X[1, 0] = 1\n",
    "X"
   ]
  },
  {
   "cell_type": "code",
   "execution_count": 257,
   "id": "9d02f172",
   "metadata": {},
   "outputs": [
    {
     "data": {
      "text/plain": [
       "array([[0., 2., 0., 0.],\n",
       "       [1., 1., 1., 1.],\n",
       "       [0., 0., 0., 2.]])"
      ]
     },
     "execution_count": 257,
     "metadata": {},
     "output_type": "execute_result"
    }
   ],
   "source": [
    "#X의 1행의 1열,1행의 3열을 1로 변경\n",
    "X[1, [1, 3]] = 1\n",
    "X"
   ]
  },
  {
   "cell_type": "code",
   "execution_count": 258,
   "id": "955e7dc4",
   "metadata": {},
   "outputs": [
    {
     "data": {
      "text/plain": [
       "array([[0., 2., 0., 0.],\n",
       "       [1., 1., 1., 1.],\n",
       "       [0., 0., 0., 2.]])"
      ]
     },
     "execution_count": 258,
     "metadata": {},
     "output_type": "execute_result"
    }
   ],
   "source": [
    "#0행의 1열, 2행의 3열을 2로 변경\n",
    "X[[0, 2], [1, 3]] = 2\n",
    "X"
   ]
  },
  {
   "cell_type": "code",
   "execution_count": 260,
   "id": "4b9c52e6",
   "metadata": {},
   "outputs": [
    {
     "data": {
      "text/plain": [
       "array([[3., 2., 3., 0.],\n",
       "       [3., 1., 3., 1.],\n",
       "       [3., 0., 3., 2.]])"
      ]
     },
     "execution_count": 260,
     "metadata": {},
     "output_type": "execute_result"
    }
   ],
   "source": [
    "#0~3행의 0열, 0~3행의 2열을 3으로 변경\n",
    "X[0:3, [0, 2]] = 3\n",
    "X"
   ]
  },
  {
   "cell_type": "markdown",
   "id": "5fc5d94e",
   "metadata": {},
   "source": [
    "# 정렬 (값)"
   ]
  },
  {
   "cell_type": "code",
   "execution_count": 271,
   "id": "2518ff36",
   "metadata": {},
   "outputs": [
    {
     "data": {
      "text/plain": [
       "array([5, 0, 3, 3, 7])"
      ]
     },
     "execution_count": 271,
     "metadata": {},
     "output_type": "execute_result"
    }
   ],
   "source": [
    "#0이상 10미만 범위의 난수들을 5개 생성\n",
    "np.random.seed(0)\n",
    "x = np.array(np.random.randint(10, size=5))\n",
    "x"
   ]
  },
  {
   "cell_type": "code",
   "execution_count": 272,
   "id": "5a8626b1",
   "metadata": {},
   "outputs": [
    {
     "data": {
      "text/plain": [
       "(array([0, 3, 3, 5, 7]), array([5, 0, 3, 3, 7]))"
      ]
     },
     "execution_count": 272,
     "metadata": {},
     "output_type": "execute_result"
    }
   ],
   "source": [
    "#x를 정렬한 값을 출력으로 보여줌. (원본인 x는 달라지지 않음.)\n",
    "np.sort(x), x"
   ]
  },
  {
   "cell_type": "code",
   "execution_count": 273,
   "id": "367efca4",
   "metadata": {},
   "outputs": [
    {
     "data": {
      "text/plain": [
       "(None, array([0, 3, 3, 5, 7]))"
      ]
     },
     "execution_count": 273,
     "metadata": {},
     "output_type": "execute_result"
    }
   ],
   "source": [
    "#x 정렬해서 재배치 (원본인 x가 정렬되어 변경됨.)\n",
    "x.sort(), x"
   ]
  },
  {
   "cell_type": "markdown",
   "id": "11242505",
   "metadata": {},
   "source": [
    "# 정렬 (인덱스)"
   ]
  },
  {
   "cell_type": "code",
   "execution_count": 275,
   "id": "060d7ac6",
   "metadata": {},
   "outputs": [
    {
     "data": {
      "text/plain": [
       "array([5, 0, 3, 3, 7])"
      ]
     },
     "execution_count": 275,
     "metadata": {},
     "output_type": "execute_result"
    }
   ],
   "source": [
    "#0이상 10미만 중 난수들을 5개 생성\n",
    "np.random.seed(0)\n",
    "x = np.array(np.random.randint(10, size=5))\n",
    "x"
   ]
  },
  {
   "cell_type": "code",
   "execution_count": 278,
   "id": "89b9af94",
   "metadata": {},
   "outputs": [
    {
     "data": {
      "text/plain": [
       "array([1, 2, 3, 0, 4])"
      ]
     },
     "execution_count": 278,
     "metadata": {},
     "output_type": "execute_result"
    }
   ],
   "source": [
    "#정렬된 것의 인덱스를 반환\n",
    "#0-5, 1-0, 2-3, 3-3, 4-7에서\n",
    "#1-0, 2-3, 3-3, 0-5, 4-7로 정렬\n",
    "#각 인덱스들을 값 대신 출력\n",
    "idx = np.argsort(x)\n",
    "idx"
   ]
  },
  {
   "cell_type": "code",
   "execution_count": 281,
   "id": "e9861033",
   "metadata": {},
   "outputs": [
    {
     "data": {
      "text/plain": [
       "array([0, 3, 3, 5, 7])"
      ]
     },
     "execution_count": 281,
     "metadata": {},
     "output_type": "execute_result"
    }
   ],
   "source": [
    "#????\n",
    "x[idx]"
   ]
  }
 ],
 "metadata": {
  "kernelspec": {
   "display_name": "Python 3",
   "language": "python",
   "name": "python3"
  },
  "language_info": {
   "codemirror_mode": {
    "name": "ipython",
    "version": 3
   },
   "file_extension": ".py",
   "mimetype": "text/x-python",
   "name": "python",
   "nbconvert_exporter": "python",
   "pygments_lexer": "ipython3",
   "version": "3.8.8"
  }
 },
 "nbformat": 4,
 "nbformat_minor": 5
}
