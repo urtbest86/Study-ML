{
 "cells": [
  {
   "cell_type": "markdown",
   "id": "34bffa7b",
   "metadata": {},
   "source": [
    "## 2021.08.21(토)"
   ]
  },
  {
   "cell_type": "markdown",
   "id": "d5c4af9b",
   "metadata": {},
   "source": [
    "# 파면 팔수록 쉽고 재미있는 머신러닝"
   ]
  },
  {
   "cell_type": "markdown",
   "id": "8bf40d9f",
   "metadata": {},
   "source": [
    "# 2강 3. 파이썬 Pandas 소개"
   ]
  },
  {
   "cell_type": "markdown",
   "id": "45a9a4ac",
   "metadata": {},
   "source": [
    "---"
   ]
  },
  {
   "cell_type": "markdown",
   "id": "65ec1388",
   "metadata": {},
   "source": [
    "# Pandas"
   ]
  },
  {
   "cell_type": "markdown",
   "id": "7c3c284e",
   "metadata": {},
   "source": [
    "- Numpy를 기반으로 개발된 패키지\n",
    "- 유연한 인덱스를 가진 1차원 배열의 구조의 Series 객페와 유연한 행 인덱스와 열 인덱스를 가진 2차원 배열의 구조의 DataFrame 객체를 제공\n",
    "- 강력한 데이터 연산 기능을 제공\n",
    "- DataFrame객체는 여러 데이터 타입을 사용할 수 있으며, 값의 누락 역시 허용"
   ]
  }
 ],
 "metadata": {
  "kernelspec": {
   "display_name": "Python 3",
   "language": "python",
   "name": "python3"
  },
  "language_info": {
   "codemirror_mode": {
    "name": "ipython",
    "version": 3
   },
   "file_extension": ".py",
   "mimetype": "text/x-python",
   "name": "python",
   "nbconvert_exporter": "python",
   "pygments_lexer": "ipython3",
   "version": "3.8.8"
  }
 },
 "nbformat": 4,
 "nbformat_minor": 5
}
