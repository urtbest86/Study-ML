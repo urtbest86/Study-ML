{
 "cells": [
  {
   "cell_type": "markdown",
   "id": "a5d2823b",
   "metadata": {},
   "source": [
    "## 21.08.18(수)"
   ]
  },
  {
   "cell_type": "markdown",
   "id": "dc075451",
   "metadata": {},
   "source": [
    "# 파면 팔수록 쉽고 재미있는 머신러닝"
   ]
  },
  {
   "cell_type": "markdown",
   "id": "f295f09c",
   "metadata": {},
   "source": [
    "# 2강 1. 파이썬 NumPy 소개"
   ]
  },
  {
   "cell_type": "markdown",
   "id": "24f430db",
   "metadata": {},
   "source": [
    "---"
   ]
  },
  {
   "cell_type": "markdown",
   "id": "d1e83cac",
   "metadata": {},
   "source": [
    "# NumPy(넘피, Numerical Python)\n",
    "\n",
    "입출력 자료구조로 사용\n",
    "\n",
    "- 파이썬의 내장 타입인 리스트보다 데이터의 저장 및 처리에 있어 효율적인 NumPy배열을 제공\n",
    "- 선형 대수와 관련된 기능을 제공\n",
    "- 파이썬을 기반으로 한 데이터 과학 도구의 핵심 패키지\n",
    "- 데이터 사이언스 영역의 대 부분의 도구(Pandas, Scipy 패키지, scikit-learn 패키지 등) NumPy 기반"
   ]
  },
  {
   "cell_type": "markdown",
   "id": "7dba600e",
   "metadata": {},
   "source": [
    " \n",
    "# Pandas(판다스)\n",
    "\n",
    "입력 데이터를 만드는 과정과 데이터 시각화 과정에서 사용"
   ]
  }
 ],
 "metadata": {
  "kernelspec": {
   "display_name": "Python 3",
   "language": "python",
   "name": "python3"
  },
  "language_info": {
   "codemirror_mode": {
    "name": "ipython",
    "version": 3
   },
   "file_extension": ".py",
   "mimetype": "text/x-python",
   "name": "python",
   "nbconvert_exporter": "python",
   "pygments_lexer": "ipython3",
   "version": "3.8.8"
  }
 },
 "nbformat": 4,
 "nbformat_minor": 5
}
